{
 "cells": [
  {
   "cell_type": "code",
   "execution_count": 1,
   "metadata": {},
   "outputs": [],
   "source": [
    "import maboss, biolqm, exastolog"
   ]
  },
  {
   "cell_type": "markdown",
   "metadata": {},
   "source": [
    "#### First, simulate with MaBoSS"
   ]
  },
  {
   "cell_type": "code",
   "execution_count": 2,
   "metadata": {},
   "outputs": [],
   "source": [
    "bnet_model = biolqm.load(\"model_files/Cohen_Master_Model.bnet\")"
   ]
  },
  {
   "cell_type": "code",
   "execution_count": 3,
   "metadata": {},
   "outputs": [],
   "source": [
    "model = biolqm.to_maboss(bnet_model)"
   ]
  },
  {
   "cell_type": "code",
   "execution_count": 4,
   "metadata": {},
   "outputs": [],
   "source": [
    "model.param[\"sample_count\"] = 100000"
   ]
  },
  {
   "cell_type": "code",
   "execution_count": 5,
   "metadata": {
    "scrolled": true
   },
   "outputs": [],
   "source": [
    "on = (0, 1)\n",
    "off = (1, 0)\n",
    "rand = (0.5, 0.5)\n",
    "\n",
    "for node in model.network:\n",
    "    if node in ['ECMicroenv', 'DNAdamage']:\n",
    "        model.network.set_istate(node, rand)\n",
    "    else:\n",
    "        model.network.set_istate(node, off)\n"
   ]
  },
  {
   "cell_type": "code",
   "execution_count": 6,
   "metadata": {},
   "outputs": [
    {
     "name": "stdout",
     "output_type": "stream",
     "text": [
      "CPU times: user 2.72 ms, sys: 12.9 ms, total: 15.6 ms\n",
      "Wall time: 43.7 s\n"
     ]
    }
   ],
   "source": [
    "%time res = model.run()"
   ]
  },
  {
   "cell_type": "code",
   "execution_count": 7,
   "metadata": {},
   "outputs": [
    {
     "name": "stdout",
     "output_type": "stream",
     "text": [
      "CPU times: user 61.3 ms, sys: 86.4 ms, total: 148 ms\n",
      "Wall time: 150 ms\n"
     ]
    },
    {
     "data": {
      "text/html": [
       "<div>\n",
       "<style scoped>\n",
       "    .dataframe tbody tr th:only-of-type {\n",
       "        vertical-align: middle;\n",
       "    }\n",
       "\n",
       "    .dataframe tbody tr th {\n",
       "        vertical-align: top;\n",
       "    }\n",
       "\n",
       "    .dataframe thead th {\n",
       "        text-align: right;\n",
       "    }\n",
       "</style>\n",
       "<table border=\"1\" class=\"dataframe\">\n",
       "  <thead>\n",
       "    <tr style=\"text-align: right;\">\n",
       "      <th></th>\n",
       "      <th>CDH1</th>\n",
       "      <th>CDH1 -- TGFbeta -- miR200 -- p63 -- p73 -- Apoptosis -- p21 -- CellCycleArrest -- DNAdamage -- ECMicroenv</th>\n",
       "      <th>CDH1 -- TGFbeta -- p53 -- miR203 -- miR200 -- Apoptosis -- p21 -- CellCycleArrest -- DNAdamage -- ECMicroenv</th>\n",
       "      <th>CDH1 -- miR200 -- p63 -- p73 -- Apoptosis -- p21 -- CellCycleArrest -- DNAdamage</th>\n",
       "      <th>CDH1 -- p53 -- miR203 -- miR200 -- Apoptosis -- p21 -- CellCycleArrest -- DNAdamage</th>\n",
       "      <th>CDH2 -- GF -- NICD -- TGFbeta -- TWIST1 -- AKT2 -- ERK -- ZEB2 -- SNAI1 -- SNAI2 -- ZEB1 -- DKK1 -- CellCycleArrest -- DNAdamage -- ECMicroenv -- EMT -- SMAD -- Invasion -- Migration -- Metastasis -- VIM</th>\n",
       "      <th>CDH2 -- GF -- NICD -- TGFbeta -- TWIST1 -- AKT2 -- ERK -- ZEB2 -- SNAI1 -- SNAI2 -- ZEB1 -- DKK1 -- CellCycleArrest -- ECMicroenv -- EMT -- SMAD -- Invasion -- Migration -- Metastasis -- VIM</th>\n",
       "      <th>CDH2 -- GF -- TWIST1 -- AKT2 -- ERK -- ZEB2 -- SNAI1 -- SNAI2 -- ZEB1 -- CellCycleArrest -- DNAdamage -- EMT -- VIM</th>\n",
       "      <th>CDH2 -- GF -- TWIST1 -- AKT2 -- ERK -- ZEB2 -- SNAI1 -- SNAI2 -- ZEB1 -- CellCycleArrest -- EMT -- VIM</th>\n",
       "    </tr>\n",
       "  </thead>\n",
       "  <tbody>\n",
       "    <tr>\n",
       "      <th>999.0000</th>\n",
       "      <td>0.20207</td>\n",
       "      <td>0.08087</td>\n",
       "      <td>0.11789</td>\n",
       "      <td>0.10318</td>\n",
       "      <td>0.1329</td>\n",
       "      <td>0.05125</td>\n",
       "      <td>0.24928</td>\n",
       "      <td>0.01419</td>\n",
       "      <td>0.04837</td>\n",
       "    </tr>\n",
       "  </tbody>\n",
       "</table>\n",
       "</div>"
      ],
      "text/plain": [
       "             CDH1  \\\n",
       "999.0000  0.20207   \n",
       "\n",
       "          CDH1 -- TGFbeta -- miR200 -- p63 -- p73 -- Apoptosis -- p21 -- CellCycleArrest -- DNAdamage -- ECMicroenv  \\\n",
       "999.0000                                            0.08087                                                           \n",
       "\n",
       "          CDH1 -- TGFbeta -- p53 -- miR203 -- miR200 -- Apoptosis -- p21 -- CellCycleArrest -- DNAdamage -- ECMicroenv  \\\n",
       "999.0000                                            0.11789                                                              \n",
       "\n",
       "          CDH1 -- miR200 -- p63 -- p73 -- Apoptosis -- p21 -- CellCycleArrest -- DNAdamage  \\\n",
       "999.0000                                            0.10318                                  \n",
       "\n",
       "          CDH1 -- p53 -- miR203 -- miR200 -- Apoptosis -- p21 -- CellCycleArrest -- DNAdamage  \\\n",
       "999.0000                                             0.1329                                     \n",
       "\n",
       "          CDH2 -- GF -- NICD -- TGFbeta -- TWIST1 -- AKT2 -- ERK -- ZEB2 -- SNAI1 -- SNAI2 -- ZEB1 -- DKK1 -- CellCycleArrest -- DNAdamage -- ECMicroenv -- EMT -- SMAD -- Invasion -- Migration -- Metastasis -- VIM  \\\n",
       "999.0000                                            0.05125                                                                                                                                                             \n",
       "\n",
       "          CDH2 -- GF -- NICD -- TGFbeta -- TWIST1 -- AKT2 -- ERK -- ZEB2 -- SNAI1 -- SNAI2 -- ZEB1 -- DKK1 -- CellCycleArrest -- ECMicroenv -- EMT -- SMAD -- Invasion -- Migration -- Metastasis -- VIM  \\\n",
       "999.0000                                            0.24928                                                                                                                                                \n",
       "\n",
       "          CDH2 -- GF -- TWIST1 -- AKT2 -- ERK -- ZEB2 -- SNAI1 -- SNAI2 -- ZEB1 -- CellCycleArrest -- DNAdamage -- EMT -- VIM  \\\n",
       "999.0000                                            0.01419                                                                     \n",
       "\n",
       "          CDH2 -- GF -- TWIST1 -- AKT2 -- ERK -- ZEB2 -- SNAI1 -- SNAI2 -- ZEB1 -- CellCycleArrest -- EMT -- VIM  \n",
       "999.0000                                            0.04837                                                       "
      ]
     },
     "execution_count": 7,
     "metadata": {},
     "output_type": "execute_result"
    }
   ],
   "source": [
    "%time res.get_last_states_probtraj()"
   ]
  },
  {
   "cell_type": "markdown",
   "metadata": {},
   "source": [
    "#### Then, simulate with ExaStoLog"
   ]
  },
  {
   "cell_type": "code",
   "execution_count": null,
   "metadata": {},
   "outputs": [],
   "source": [
    "%time model_exastolog = exastolog.Model(\"model_files/Cohen_Master_Model.bnet\")"
   ]
  },
  {
   "cell_type": "code",
   "execution_count": null,
   "metadata": {},
   "outputs": [],
   "source": [
    "nonrand_species = ['AKT1', 'AKT2', 'Apoptosis', 'CDH1', 'CDH2', 'CTNNB1', 'CellCycleArrest', 'DKK1', 'EMT', 'ERK', 'GF', 'Invasion', 'Metastasis', 'Migration', 'NICD', 'SMAD', 'SNAI1', 'SNAI2', 'TGFbeta', 'TWIST1', 'VIM', 'ZEB1', 'ZEB2', 'miR200', 'miR203', 'miR34', 'p21', 'p53', 'p63', 'p73']\n",
    "%time sim = exastolog.Simulation(model_exastolog, nonrand_species, [0]*len(nonrand_species))"
   ]
  },
  {
   "cell_type": "code",
   "execution_count": null,
   "metadata": {},
   "outputs": [],
   "source": [
    "%time sim.get_last_states_probtraj()"
   ]
  },
  {
   "cell_type": "code",
   "execution_count": null,
   "metadata": {},
   "outputs": [],
   "source": []
  }
 ],
 "metadata": {
  "kernelspec": {
   "display_name": "Python 3",
   "language": "python",
   "name": "python3"
  },
  "language_info": {
   "codemirror_mode": {
    "name": "ipython",
    "version": 3
   },
   "file_extension": ".py",
   "mimetype": "text/x-python",
   "name": "python",
   "nbconvert_exporter": "python",
   "pygments_lexer": "ipython3",
   "version": "3.7.7"
  }
 },
 "nbformat": 4,
 "nbformat_minor": 4
}
