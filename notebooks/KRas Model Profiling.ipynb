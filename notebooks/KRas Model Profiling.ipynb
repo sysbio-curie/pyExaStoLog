{
 "cells": [
  {
   "cell_type": "code",
   "execution_count": 1,
   "metadata": {},
   "outputs": [],
   "source": [
    "%load_ext memory_profiler"
   ]
  },
  {
   "cell_type": "code",
   "execution_count": 2,
   "metadata": {},
   "outputs": [],
   "source": [
    "import exastolog"
   ]
  },
  {
   "cell_type": "code",
   "execution_count": 3,
   "metadata": {},
   "outputs": [
    {
     "name": "stderr",
     "output_type": "stream",
     "text": [
      "/home/vincent/.conda/envs/exastolog/lib/python3.7/site-packages/numpy/core/fromnumeric.py:87: VisibleDeprecationWarning: Creating an ndarray from ragged nested sequences (which is a list-or-tuple of lists-or-tuples-or ndarrays with different lengths or shapes) is deprecated. If you meant to do this, you must specify 'dtype=object' when creating the ndarray\n",
      "  return ufunc.reduce(obj, axis, dtype, out, **passkwargs)\n"
     ]
    },
    {
     "name": "stdout",
     "output_type": "stream",
     "text": [
      "Size of state transition table : 5MB\n",
      "Computed in 0.44s\n",
      "Size of transition rates table : 240 bytes\n",
      "Computed in 0.00023s\n",
      "Size of state transition graph : 2MB\n",
      "Computed in 0.024s\n",
      "peak memory: 137.79 MiB, increment: 12.09 MiB\n",
      "CPU times: user 459 ms, sys: 59.3 ms, total: 519 ms\n",
      "Wall time: 624 ms\n"
     ]
    }
   ],
   "source": [
    "%time %memit model_exastolog = exastolog.Model(\"model_files/krasmodel15vars.bnet\", profiling=True)"
   ]
  },
  {
   "cell_type": "code",
   "execution_count": 4,
   "metadata": {},
   "outputs": [
    {
     "name": "stderr",
     "output_type": "stream",
     "text": [
      "/home/vincent/.conda/envs/exastolog/lib/python3.7/site-packages/exastolog/InitialState.py:83: RuntimeWarning: invalid value encountered in long_scalars\n",
      "  x0[np.logical_not(inds_condition)] = np.array([[(1-dom_prob)/(len(x0)-sum(inds_condition))]*(len(x0)-sum(inds_condition))]).transpose()\n"
     ]
    },
    {
     "name": "stdout",
     "output_type": "stream",
     "text": [
      "Initial states built in 0.45s\n",
      "StateTransitionSubgraphs built in 4.1s\n",
      "Solution computed in 0.6s\n",
      "peak memory: 196.09 MiB, increment: 58.30 MiB\n",
      "CPU times: user 5.18 s, sys: 61.3 ms, total: 5.24 s\n",
      "Wall time: 5.35 s\n"
     ]
    }
   ],
   "source": [
    "nonrand_species = ['cc','KRAS','DSB','cell_death'], [1, 1, 1, 0]\n",
    "%time %memit sim = exastolog.Simulation(model_exastolog,nonrand_species, [0]*len(nonrand_species))"
   ]
  },
  {
   "cell_type": "code",
   "execution_count": 5,
   "metadata": {},
   "outputs": [
    {
     "name": "stdout",
     "output_type": "stream",
     "text": [
      "peak memory: 192.23 MiB, increment: 0.89 MiB\n",
      "CPU times: user 105 ms, sys: 36.3 ms, total: 141 ms\n",
      "Wall time: 263 ms\n"
     ]
    }
   ],
   "source": [
    "%time %memit sim.get_last_states_probtraj()"
   ]
  },
  {
   "cell_type": "code",
   "execution_count": null,
   "metadata": {},
   "outputs": [],
   "source": []
  },
  {
   "cell_type": "code",
   "execution_count": null,
   "metadata": {},
   "outputs": [],
   "source": []
  },
  {
   "cell_type": "code",
   "execution_count": null,
   "metadata": {},
   "outputs": [],
   "source": []
  }
 ],
 "metadata": {
  "kernelspec": {
   "display_name": "Python 3",
   "language": "python",
   "name": "python3"
  },
  "language_info": {
   "codemirror_mode": {
    "name": "ipython",
    "version": 3
   },
   "file_extension": ".py",
   "mimetype": "text/x-python",
   "name": "python",
   "nbconvert_exporter": "python",
   "pygments_lexer": "ipython3",
   "version": "3.7.7"
  }
 },
 "nbformat": 4,
 "nbformat_minor": 4
}
