{
 "cells": [
  {
   "cell_type": "code",
   "execution_count": 3,
   "metadata": {},
   "outputs": [],
   "source": [
    "import exastolog"
   ]
  },
  {
   "cell_type": "markdown",
   "metadata": {},
   "source": [
    "#### First, simulate with MaBoSS"
   ]
  },
  {
   "cell_type": "code",
   "execution_count": 2,
   "metadata": {},
   "outputs": [
    {
     "ename": "NameError",
     "evalue": "name 'biolqm' is not defined",
     "output_type": "error",
     "traceback": [
      "\u001b[0;31m---------------------------------------------------------------------------\u001b[0m",
      "\u001b[0;31mNameError\u001b[0m                                 Traceback (most recent call last)",
      "\u001b[0;32m<ipython-input-2-e72baf1e964a>\u001b[0m in \u001b[0;36m<module>\u001b[0;34m\u001b[0m\n\u001b[0;32m----> 1\u001b[0;31m \u001b[0mbnet_model\u001b[0m \u001b[0;34m=\u001b[0m \u001b[0mbiolqm\u001b[0m\u001b[0;34m.\u001b[0m\u001b[0mload\u001b[0m\u001b[0;34m(\u001b[0m\u001b[0;34m\"model_files/EMT_cohen_ModNet.bnet\"\u001b[0m\u001b[0;34m)\u001b[0m\u001b[0;34m\u001b[0m\u001b[0;34m\u001b[0m\u001b[0m\n\u001b[0m",
      "\u001b[0;31mNameError\u001b[0m: name 'biolqm' is not defined"
     ]
    }
   ],
   "source": [
    "bnet_model = biolqm.load(\"model_files/EMT_cohen_ModNet.bnet\")"
   ]
  },
  {
   "cell_type": "code",
   "execution_count": null,
   "metadata": {},
   "outputs": [],
   "source": [
    "model = biolqm.to_maboss(bnet_model)"
   ]
  },
  {
   "cell_type": "code",
   "execution_count": null,
   "metadata": {},
   "outputs": [],
   "source": [
    "model.param[\"sample_count\"] = 100000"
   ]
  },
  {
   "cell_type": "code",
   "execution_count": null,
   "metadata": {
    "scrolled": true
   },
   "outputs": [],
   "source": [
    "on = (0, 1)\n",
    "off = (1, 0)\n",
    "rand = (0.5, 0.5)\n",
    "\n",
    "model.network.set_istate('ECMicroenv', on)\n",
    "model.network.set_istate('DNAdamage', on)\n",
    "model.network.set_istate('GF', rand)\n",
    "model.network.set_istate('Metastasis', off)\n",
    "model.network.set_istate('Migration', off)\n",
    "model.network.set_istate('Invasion', off)\n",
    "model.network.set_istate('EMT', off)\n",
    "model.network.set_istate('Apoptosis', off)\n",
    "model.network.set_istate('CCA', rand)\n",
    "model.network.set_istate('TGFb_pthw', rand)\n",
    "model.network.set_istate('Notch_pthw', on)\n",
    "model.network.set_istate('p53', off)\n",
    "model.network.set_istate('EMTreg', rand)\n",
    "model.network.set_istate('p63_73', rand)\n",
    "model.network.set_istate('AKT1', rand)\n",
    "model.network.set_istate('AKT2', rand)\n",
    "model.network.set_istate('ERK_pthw', rand)\n",
    "model.network.set_istate('miRNA', rand)\n",
    "model.network.set_istate('Ecadh', rand)"
   ]
  },
  {
   "cell_type": "code",
   "execution_count": null,
   "metadata": {},
   "outputs": [],
   "source": [
    "res = model.run()"
   ]
  },
  {
   "cell_type": "code",
   "execution_count": null,
   "metadata": {},
   "outputs": [],
   "source": [
    "res.get_last_states_probtraj()"
   ]
  },
  {
   "cell_type": "markdown",
   "metadata": {},
   "source": [
    "#### Then, simulate with ExaStoLog"
   ]
  },
  {
   "cell_type": "code",
   "execution_count": 4,
   "metadata": {},
   "outputs": [
    {
     "name": "stderr",
     "output_type": "stream",
     "text": [
      "/home/vincent/.conda/envs/exastolog/lib/python3.7/site-packages/numpy/core/fromnumeric.py:87: VisibleDeprecationWarning: Creating an ndarray from ragged nested sequences (which is a list-or-tuple of lists-or-tuples-or ndarrays with different lengths or shapes) is deprecated. If you meant to do this, you must specify 'dtype=object' when creating the ndarray\n",
      "  return ufunc.reduce(obj, axis, dtype, out, **passkwargs)\n"
     ]
    },
    {
     "name": "stdout",
     "output_type": "stream",
     "text": [
      "Size of state transition table : 283MB\n",
      "Computed in 13s\n",
      "Size of transition rates table : 320 bytes\n",
      "Computed in 9.2e-05s\n",
      "Size of state transition graph : 122MB\n",
      "Computed in 0.68s\n",
      "Initial states built in 9.7s\n",
      "StateTransitionSubgraphs built in 61s\n",
      "Solution computed in 3.9s\n"
     ]
    }
   ],
   "source": [
    "model = exastolog.Model(\"model_files/EMT_cohen_ModNet.bnet\", profiling=True)\n",
    "sim = exastolog.Simulation(\n",
    "    model, \n",
    "    ['ECMicroenv','DNAdamage','Metastasis','Migration','Invasion','EMT','Apoptosis','Notch_pthw','p53'], \n",
    "    [1, 1, 0, 0, 0, 0, 0, 1, 0], profiling=True\n",
    ")"
   ]
  },
  {
   "cell_type": "code",
   "execution_count": 5,
   "metadata": {},
   "outputs": [
    {
     "data": {
      "text/html": [
       "<div>\n",
       "<style scoped>\n",
       "    .dataframe tbody tr th:only-of-type {\n",
       "        vertical-align: middle;\n",
       "    }\n",
       "\n",
       "    .dataframe tbody tr th {\n",
       "        vertical-align: top;\n",
       "    }\n",
       "\n",
       "    .dataframe thead th {\n",
       "        text-align: right;\n",
       "    }\n",
       "</style>\n",
       "<table border=\"1\" class=\"dataframe\">\n",
       "  <thead>\n",
       "    <tr style=\"text-align: right;\">\n",
       "      <th></th>\n",
       "      <th>ECMicroenv -- DNAdamage -- Apoptosis -- CCA -- p53 -- miRNA -- Ecadh</th>\n",
       "      <th>ECMicroenv -- DNAdamage -- Apoptosis -- CCA -- p63_73 -- miRNA -- Ecadh</th>\n",
       "      <th>ECMicroenv -- DNAdamage -- GF -- Metastasis -- Migration -- Invasion -- EMT -- CCA -- TGFb_pthw -- Notch_pthw -- EMTreg -- AKT2 -- ERK_pthw</th>\n",
       "    </tr>\n",
       "  </thead>\n",
       "  <tbody>\n",
       "    <tr>\n",
       "      <th>0</th>\n",
       "      <td>0.198615</td>\n",
       "      <td>0.136972</td>\n",
       "      <td>0.664414</td>\n",
       "    </tr>\n",
       "  </tbody>\n",
       "</table>\n",
       "</div>"
      ],
      "text/plain": [
       "   ECMicroenv -- DNAdamage -- Apoptosis -- CCA -- p53 -- miRNA -- Ecadh  \\\n",
       "0                                           0.198615                      \n",
       "\n",
       "   ECMicroenv -- DNAdamage -- Apoptosis -- CCA -- p63_73 -- miRNA -- Ecadh  \\\n",
       "0                                           0.136972                         \n",
       "\n",
       "   ECMicroenv -- DNAdamage -- GF -- Metastasis -- Migration -- Invasion -- EMT -- CCA -- TGFb_pthw -- Notch_pthw -- EMTreg -- AKT2 -- ERK_pthw  \n",
       "0                                           0.664414                                                                                            "
      ]
     },
     "execution_count": 5,
     "metadata": {},
     "output_type": "execute_result"
    }
   ],
   "source": [
    "sim.get_last_states_probtraj()"
   ]
  },
  {
   "cell_type": "code",
   "execution_count": null,
   "metadata": {},
   "outputs": [],
   "source": []
  }
 ],
 "metadata": {
  "kernelspec": {
   "display_name": "Python 3",
   "language": "python",
   "name": "python3"
  },
  "language_info": {
   "codemirror_mode": {
    "name": "ipython",
    "version": 3
   },
   "file_extension": ".py",
   "mimetype": "text/x-python",
   "name": "python",
   "nbconvert_exporter": "python",
   "pygments_lexer": "ipython3",
   "version": "3.7.7"
  }
 },
 "nbformat": 4,
 "nbformat_minor": 4
}
