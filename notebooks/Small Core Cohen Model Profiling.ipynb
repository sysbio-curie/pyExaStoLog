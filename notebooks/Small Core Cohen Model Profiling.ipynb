{
 "cells": [
  {
   "cell_type": "code",
   "execution_count": 1,
   "metadata": {},
   "outputs": [],
   "source": [
    "%load_ext memory_profiler"
   ]
  },
  {
   "cell_type": "code",
   "execution_count": 2,
   "metadata": {},
   "outputs": [],
   "source": [
    "import exastolog"
   ]
  },
  {
   "cell_type": "code",
   "execution_count": 3,
   "metadata": {},
   "outputs": [
    {
     "name": "stderr",
     "output_type": "stream",
     "text": [
      "/home/vincent/.conda/envs/exastolog/lib/python3.7/site-packages/numpy/core/fromnumeric.py:87: VisibleDeprecationWarning: Creating an ndarray from ragged nested sequences (which is a list-or-tuple of lists-or-tuples-or ndarrays with different lengths or shapes) is deprecated. If you meant to do this, you must specify 'dtype=object' when creating the ndarray\n",
      "  return ufunc.reduce(obj, axis, dtype, out, **passkwargs)\n"
     ]
    },
    {
     "name": "stdout",
     "output_type": "stream",
     "text": [
      "Size of state transition table : 1GB\n",
      "Computed in 89s\n",
      "Size of transition rates table : 352 bytes\n",
      "Computed in 0.0016s\n",
      "Size of state transition graph : 586MB\n",
      "Computed in 4.7s\n",
      "peak memory: 4858.62 MiB, increment: 4732.95 MiB\n",
      "CPU times: user 1min 9s, sys: 24 s, total: 1min 33s\n",
      "Wall time: 1min 34s\n"
     ]
    }
   ],
   "source": [
    "%time %memit model_exastolog = exastolog.Model(\"model_files/Small_Core_Cohen_Master_Model.bnet\", profiling=True)"
   ]
  },
  {
   "cell_type": "code",
   "execution_count": null,
   "metadata": {},
   "outputs": [
    {
     "name": "stdout",
     "output_type": "stream",
     "text": [
      "Initial states built in 53s\n"
     ]
    }
   ],
   "source": [
    "nonrand_species = ['AKT1', 'AKT2', 'CDH1', 'CDH2', 'CTNNB1', 'DKK1', 'GF', 'NICD', 'SMAD', 'SNAI1', 'SNAI2', 'TGFbeta', 'TWIST1', 'ZEB1', 'ZEB2', 'miR200', 'miR203', 'miR34', 'p53', 'p63', 'p73']\n",
    "%time %memit sim = exastolog.Simulation(model_exastolog,nonrand_species, [0]*len(nonrand_species))"
   ]
  },
  {
   "cell_type": "code",
   "execution_count": null,
   "metadata": {},
   "outputs": [],
   "source": [
    "%time %memit sim.get_last_states_probtraj()"
   ]
  },
  {
   "cell_type": "code",
   "execution_count": null,
   "metadata": {},
   "outputs": [],
   "source": []
  },
  {
   "cell_type": "code",
   "execution_count": null,
   "metadata": {},
   "outputs": [],
   "source": []
  },
  {
   "cell_type": "code",
   "execution_count": null,
   "metadata": {},
   "outputs": [],
   "source": []
  }
 ],
 "metadata": {
  "kernelspec": {
   "display_name": "Python 3",
   "language": "python",
   "name": "python3"
  },
  "language_info": {
   "codemirror_mode": {
    "name": "ipython",
    "version": 3
   },
   "file_extension": ".py",
   "mimetype": "text/x-python",
   "name": "python",
   "nbconvert_exporter": "python",
   "pygments_lexer": "ipython3",
   "version": "3.7.7"
  }
 },
 "nbformat": 4,
 "nbformat_minor": 4
}
