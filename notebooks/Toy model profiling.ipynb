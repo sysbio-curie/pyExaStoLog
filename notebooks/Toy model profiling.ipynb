{
 "cells": [
  {
   "cell_type": "code",
   "execution_count": 1,
   "metadata": {},
   "outputs": [],
   "source": [
    "%load_ext memory_profiler"
   ]
  },
  {
   "cell_type": "code",
   "execution_count": 2,
   "metadata": {},
   "outputs": [],
   "source": [
    "import maboss, biolqm, exastolog"
   ]
  },
  {
   "cell_type": "code",
   "execution_count": 8,
   "metadata": {},
   "outputs": [
    {
     "name": "stdout",
     "output_type": "stream",
     "text": [
      "Size of state transition table : 368\n",
      "Computed in 0.0015s\n",
      "[[1 1 1]\n",
      " [1 1 1]]\n",
      "Size of transition rates table : 112\n",
      "Computed in 0.00038s\n",
      "Size of state transition graph : 64\n",
      "Computed in 0.0028s\n",
      "Size of state transition table : 368\n",
      "Computed in 0.0012s\n",
      "[[1 1 1]\n",
      " [1 1 1]]\n",
      "Size of transition rates table : 112\n",
      "Computed in 0.00037s\n",
      "Size of state transition graph : 64\n",
      "Computed in 0.0033s\n",
      "Size of state transition table : 368\n",
      "Computed in 0.0012s\n",
      "[[1 1 1]\n",
      " [1 1 1]]\n",
      "Size of transition rates table : 112\n",
      "Computed in 0.00037s\n",
      "Size of state transition graph : 64\n",
      "Computed in 0.0025s\n",
      "peak memory: 168.11 MiB, increment: 0.03 MiB\n",
      "210 ms ± 0 ns per loop (mean ± std. dev. of 1 run, 1 loop each)\n"
     ]
    }
   ],
   "source": [
    "%timeit -n1 -r1 %memit model_exastolog = exastolog.Model(\"model_files/toy.bnet\", profiling=True)"
   ]
  },
  {
   "cell_type": "code",
   "execution_count": 4,
   "metadata": {},
   "outputs": [
    {
     "name": "stdout",
     "output_type": "stream",
     "text": [
      "peak memory: 167.43 MiB, increment: 0.46 MiB\n",
      "CPU times: user 107 ms, sys: 27.6 ms, total: 135 ms\n",
      "Wall time: 253 ms\n"
     ]
    }
   ],
   "source": [
    "%time %memit sim = exastolog.Simulation(model_exastolog, [\"A\", \"C\", \"D\"], [0, 0, 0])"
   ]
  },
  {
   "cell_type": "code",
   "execution_count": 5,
   "metadata": {},
   "outputs": [
    {
     "name": "stdout",
     "output_type": "stream",
     "text": [
      "peak memory: 167.79 MiB, increment: 0.36 MiB\n",
      "CPU times: user 93.9 ms, sys: 19.2 ms, total: 113 ms\n",
      "Wall time: 237 ms\n"
     ]
    }
   ],
   "source": [
    "%time %memit sim.get_last_states_probtraj()"
   ]
  },
  {
   "cell_type": "code",
   "execution_count": null,
   "metadata": {},
   "outputs": [],
   "source": []
  }
 ],
 "metadata": {
  "kernelspec": {
   "display_name": "Python 3",
   "language": "python",
   "name": "python3"
  },
  "language_info": {
   "codemirror_mode": {
    "name": "ipython",
    "version": 3
   },
   "file_extension": ".py",
   "mimetype": "text/x-python",
   "name": "python",
   "nbconvert_exporter": "python",
   "pygments_lexer": "ipython3",
   "version": "3.7.7"
  }
 },
 "nbformat": 4,
 "nbformat_minor": 4
}
