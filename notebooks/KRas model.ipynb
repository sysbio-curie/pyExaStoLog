{
 "cells": [
  {
   "cell_type": "code",
   "execution_count": 1,
   "metadata": {},
   "outputs": [],
   "source": [
    "import maboss, biolqm, exastolog"
   ]
  },
  {
   "cell_type": "markdown",
   "metadata": {},
   "source": [
    "#### First, simulate with MaBoSS"
   ]
  },
  {
   "cell_type": "code",
   "execution_count": 2,
   "metadata": {},
   "outputs": [],
   "source": [
    "bnet_model = biolqm.load(\"model_files/krasmodel15vars.bnet\")"
   ]
  },
  {
   "cell_type": "code",
   "execution_count": 3,
   "metadata": {},
   "outputs": [],
   "source": [
    "model = biolqm.to_maboss(bnet_model)"
   ]
  },
  {
   "cell_type": "code",
   "execution_count": 4,
   "metadata": {},
   "outputs": [],
   "source": [
    "model.param[\"time_tick\"] = 0.1\n",
    "model.param[\"max_time\"] = 100\n",
    "model.param[\"sample_count\"] = 100000"
   ]
  },
  {
   "cell_type": "code",
   "execution_count": 5,
   "metadata": {
    "scrolled": true
   },
   "outputs": [],
   "source": [
    "on = (0, 1)\n",
    "off = (1, 0)\n",
    "rand = (0.5, 0.5)\n",
    "\n",
    "model.network.set_istate('cc', on)\n",
    "model.network.set_istate('KRAS', on)\n",
    "model.network.set_istate('DSB', on)\n",
    "model.network.set_istate('cell_death', off)\n",
    "\n",
    "model.network.set_istate('CHEK1', rand)\n",
    "model.network.set_istate('MAPKAPK2', rand)\n",
    "model.network.set_istate('FAHRR', rand)\n",
    "model.network.set_istate('HRR2', rand)\n",
    "model.network.set_istate('CDC25B', rand)\n",
    "model.network.set_istate('g2m_trans', rand)\n",
    "model.network.set_istate('ATM', rand)\n",
    "model.network.set_istate('ATR', rand)\n",
    "model.network.set_istate('FAcore', rand)\n",
    "model.network.set_istate('FANCD2I', rand)\n",
    "model.network.set_istate('NHEJ', rand)"
   ]
  },
  {
   "cell_type": "code",
   "execution_count": 6,
   "metadata": {},
   "outputs": [
    {
     "name": "stdout",
     "output_type": "stream",
     "text": [
      "CPU times: user 5.09 ms, sys: 371 µs, total: 5.46 ms\n",
      "Wall time: 22.6 s\n"
     ]
    }
   ],
   "source": [
    "%time res = model.run()"
   ]
  },
  {
   "cell_type": "code",
   "execution_count": 7,
   "metadata": {},
   "outputs": [
    {
     "name": "stdout",
     "output_type": "stream",
     "text": [
      "CPU times: user 18 ms, sys: 0 ns, total: 18 ms\n",
      "Wall time: 16.8 ms\n"
     ]
    },
    {
     "data": {
      "text/html": [
       "<div>\n",
       "<style scoped>\n",
       "    .dataframe tbody tr th:only-of-type {\n",
       "        vertical-align: middle;\n",
       "    }\n",
       "\n",
       "    .dataframe tbody tr th {\n",
       "        vertical-align: top;\n",
       "    }\n",
       "\n",
       "    .dataframe thead th {\n",
       "        text-align: right;\n",
       "    }\n",
       "</style>\n",
       "<table border=\"1\" class=\"dataframe\">\n",
       "  <thead>\n",
       "    <tr style=\"text-align: right;\">\n",
       "      <th></th>\n",
       "      <th>cc -- KRAS -- DSB -- ATM -- ATR -- CHEK1 -- MAPKAPK2 -- cell_death -- FANCD2I -- g2m_trans -- FAcore</th>\n",
       "      <th>cc -- KRAS -- FAHRR</th>\n",
       "      <th>cc -- KRAS -- FAHRR -- g2m_trans</th>\n",
       "      <th>cc -- KRAS -- HRR2</th>\n",
       "      <th>cc -- KRAS -- HRR2 -- g2m_trans</th>\n",
       "      <th>cc -- KRAS -- NHEJ</th>\n",
       "      <th>cc -- KRAS -- NHEJ -- g2m_trans</th>\n",
       "    </tr>\n",
       "  </thead>\n",
       "  <tbody>\n",
       "    <tr>\n",
       "      <th>99.8000</th>\n",
       "      <td>0.31496</td>\n",
       "      <td>0.17048</td>\n",
       "      <td>0.25721</td>\n",
       "      <td>0.00999</td>\n",
       "      <td>0.0193</td>\n",
       "      <td>0.09171</td>\n",
       "      <td>0.13635</td>\n",
       "    </tr>\n",
       "  </tbody>\n",
       "</table>\n",
       "</div>"
      ],
      "text/plain": [
       "         cc -- KRAS -- DSB -- ATM -- ATR -- CHEK1 -- MAPKAPK2 -- cell_death -- FANCD2I -- g2m_trans -- FAcore  \\\n",
       "99.8000                                            0.31496                                                      \n",
       "\n",
       "         cc -- KRAS -- FAHRR  cc -- KRAS -- FAHRR -- g2m_trans  \\\n",
       "99.8000              0.17048                           0.25721   \n",
       "\n",
       "         cc -- KRAS -- HRR2  cc -- KRAS -- HRR2 -- g2m_trans  \\\n",
       "99.8000             0.00999                           0.0193   \n",
       "\n",
       "         cc -- KRAS -- NHEJ  cc -- KRAS -- NHEJ -- g2m_trans  \n",
       "99.8000             0.09171                          0.13635  "
      ]
     },
     "execution_count": 7,
     "metadata": {},
     "output_type": "execute_result"
    }
   ],
   "source": [
    "%time res.get_last_states_probtraj()"
   ]
  },
  {
   "cell_type": "markdown",
   "metadata": {},
   "source": [
    "#### Then, simulate with ExaStoLog"
   ]
  },
  {
   "cell_type": "code",
   "execution_count": 8,
   "metadata": {},
   "outputs": [
    {
     "name": "stdout",
     "output_type": "stream",
     "text": [
      "CPU times: user 264 ms, sys: 12.6 ms, total: 277 ms\n",
      "Wall time: 276 ms\n"
     ]
    }
   ],
   "source": [
    "%time model_exastolog = exastolog.Model(\"model_files/krasmodel15vars.bnet\")"
   ]
  },
  {
   "cell_type": "code",
   "execution_count": 9,
   "metadata": {},
   "outputs": [
    {
     "name": "stdout",
     "output_type": "stream",
     "text": [
      "CPU times: user 1.35 s, sys: 37.1 ms, total: 1.38 s\n",
      "Wall time: 1.38 s\n"
     ]
    }
   ],
   "source": [
    "%time sim = exastolog.Simulation(model_exastolog, ['cc','KRAS','DSB','cell_death'], [1, 1, 1, 0])"
   ]
  },
  {
   "cell_type": "code",
   "execution_count": 10,
   "metadata": {},
   "outputs": [
    {
     "name": "stdout",
     "output_type": "stream",
     "text": [
      "CPU times: user 5.65 ms, sys: 0 ns, total: 5.65 ms\n",
      "Wall time: 5.19 ms\n"
     ]
    },
    {
     "data": {
      "text/html": [
       "<div>\n",
       "<style scoped>\n",
       "    .dataframe tbody tr th:only-of-type {\n",
       "        vertical-align: middle;\n",
       "    }\n",
       "\n",
       "    .dataframe tbody tr th {\n",
       "        vertical-align: top;\n",
       "    }\n",
       "\n",
       "    .dataframe thead th {\n",
       "        text-align: right;\n",
       "    }\n",
       "</style>\n",
       "<table border=\"1\" class=\"dataframe\">\n",
       "  <thead>\n",
       "    <tr style=\"text-align: right;\">\n",
       "      <th></th>\n",
       "      <th>cc -- KRAS -- DSB -- CHEK1 -- MAPKAPK2 -- g2m_trans -- cell_death -- ATM -- ATR -- FAcore -- FANCD2I</th>\n",
       "      <th>cc -- KRAS -- FAHRR</th>\n",
       "      <th>cc -- KRAS -- FAHRR -- g2m_trans</th>\n",
       "      <th>cc -- KRAS -- HRR2</th>\n",
       "      <th>cc -- KRAS -- HRR2 -- g2m_trans</th>\n",
       "      <th>cc -- KRAS -- NHEJ</th>\n",
       "      <th>cc -- KRAS -- g2m_trans -- NHEJ</th>\n",
       "    </tr>\n",
       "  </thead>\n",
       "  <tbody>\n",
       "    <tr>\n",
       "      <th>0</th>\n",
       "      <td>0.313178</td>\n",
       "      <td>0.169823</td>\n",
       "      <td>0.258177</td>\n",
       "      <td>0.010694</td>\n",
       "      <td>0.019187</td>\n",
       "      <td>0.090259</td>\n",
       "      <td>0.138682</td>\n",
       "    </tr>\n",
       "  </tbody>\n",
       "</table>\n",
       "</div>"
      ],
      "text/plain": [
       "   cc -- KRAS -- DSB -- CHEK1 -- MAPKAPK2 -- g2m_trans -- cell_death -- ATM -- ATR -- FAcore -- FANCD2I  \\\n",
       "0                                           0.313178                                                      \n",
       "\n",
       "   cc -- KRAS -- FAHRR  cc -- KRAS -- FAHRR -- g2m_trans  cc -- KRAS -- HRR2  \\\n",
       "0             0.169823                          0.258177            0.010694   \n",
       "\n",
       "   cc -- KRAS -- HRR2 -- g2m_trans  cc -- KRAS -- NHEJ  \\\n",
       "0                         0.019187            0.090259   \n",
       "\n",
       "   cc -- KRAS -- g2m_trans -- NHEJ  \n",
       "0                         0.138682  "
      ]
     },
     "execution_count": 10,
     "metadata": {},
     "output_type": "execute_result"
    }
   ],
   "source": [
    "%time sim.get_last_states_probtraj()"
   ]
  },
  {
   "cell_type": "code",
   "execution_count": null,
   "metadata": {},
   "outputs": [],
   "source": []
  }
 ],
 "metadata": {
  "kernelspec": {
   "display_name": "Python 3",
   "language": "python",
   "name": "python3"
  },
  "language_info": {
   "codemirror_mode": {
    "name": "ipython",
    "version": 3
   },
   "file_extension": ".py",
   "mimetype": "text/x-python",
   "name": "python",
   "nbconvert_exporter": "python",
   "pygments_lexer": "ipython3",
   "version": "3.7.7"
  }
 },
 "nbformat": 4,
 "nbformat_minor": 4
}
